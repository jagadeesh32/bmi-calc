{
 "cells": [
  {
   "cell_type": "code",
   "execution_count": 73,
   "id": "7b459c06",
   "metadata": {},
   "outputs": [],
   "source": [
    "import pandas as pd\n",
    "\n",
    "bmi_input = [\n",
    "    {\"Gender\": \"Male\", \"HeightCm\": 171, \"WeightKg\": 96},\n",
    "    {\"Gender\": \"Male\", \"HeightCm\": 161, \"WeightKg\": 85},\n",
    "    {\"Gender\": \"Male\", \"HeightCm\": 180, \"WeightKg\": 77},\n",
    "    {\"Gender\": \"Female\", \"HeightCm\": 166, \"WeightKg\": 62},\n",
    "    {\"Gender\": \"Female\", \"HeightCm\": 150, \"WeightKg\": 70},\n",
    "    {\"Gender\": \"Female\", \"HeightCm\": 167, \"WeightKg\": 82}\n",
    "]\n",
    "\n",
    "bmi_table = [\n",
    "    {\"category\": \"Underweight\", \"range_min\": 0, \"range_max\": 18.4, \"risk\": \"Malnutrition risk\"},\n",
    "    {\"category\": \"Normal weight\", \"range_min\": 18.5, \"range_max\": 24.9, \"risk\": \"Low risk\"},\n",
    "    {\"category\": \"Overweight\", \"range_min\": 25, \"range_max\": 29.9, \"risk\": \"Enhanced risk\"},\n",
    "    {\"category\": \"Moderately obese\", \"range_min\": 30, \"range_max\": 34.9, \"risk\": \"Medium risk\"},\n",
    "    {\"category\": \"Severely obese\", \"range_min\": 35, \"range_max\": 39.9, \"risk\": \"High risk\"},\n",
    "    {\"category\": \"Very severely obese\", \"range_min\": 40, \"range_max\": 0, \"risk\": \"Very high risk\"},\n",
    "]"
   ]
  },
  {
   "cell_type": "code",
   "execution_count": null,
   "id": "d0895cf1",
   "metadata": {},
   "outputs": [],
   "source": []
  },
  {
   "cell_type": "code",
   "execution_count": 76,
   "id": "1b4b2365",
   "metadata": {},
   "outputs": [
    {
     "data": {
      "text/html": [
       "<div>\n",
       "<style scoped>\n",
       "    .dataframe tbody tr th:only-of-type {\n",
       "        vertical-align: middle;\n",
       "    }\n",
       "\n",
       "    .dataframe tbody tr th {\n",
       "        vertical-align: top;\n",
       "    }\n",
       "\n",
       "    .dataframe thead th {\n",
       "        text-align: right;\n",
       "    }\n",
       "</style>\n",
       "<table border=\"1\" class=\"dataframe\">\n",
       "  <thead>\n",
       "    <tr style=\"text-align: right;\">\n",
       "      <th></th>\n",
       "      <th>category</th>\n",
       "      <th>range_min</th>\n",
       "      <th>range_max</th>\n",
       "      <th>risk</th>\n",
       "    </tr>\n",
       "  </thead>\n",
       "  <tbody>\n",
       "    <tr>\n",
       "      <th>0</th>\n",
       "      <td>Underweight</td>\n",
       "      <td>0.0</td>\n",
       "      <td>18.4</td>\n",
       "      <td>Malnutrition risk</td>\n",
       "    </tr>\n",
       "    <tr>\n",
       "      <th>1</th>\n",
       "      <td>Normal weight</td>\n",
       "      <td>18.5</td>\n",
       "      <td>24.9</td>\n",
       "      <td>Low risk</td>\n",
       "    </tr>\n",
       "    <tr>\n",
       "      <th>2</th>\n",
       "      <td>Overweight</td>\n",
       "      <td>25.0</td>\n",
       "      <td>29.9</td>\n",
       "      <td>Enhanced risk</td>\n",
       "    </tr>\n",
       "    <tr>\n",
       "      <th>3</th>\n",
       "      <td>Moderately obese</td>\n",
       "      <td>30.0</td>\n",
       "      <td>34.9</td>\n",
       "      <td>Medium risk</td>\n",
       "    </tr>\n",
       "    <tr>\n",
       "      <th>4</th>\n",
       "      <td>Severely obese</td>\n",
       "      <td>35.0</td>\n",
       "      <td>39.9</td>\n",
       "      <td>High risk</td>\n",
       "    </tr>\n",
       "  </tbody>\n",
       "</table>\n",
       "</div>"
      ],
      "text/plain": [
       "           category  range_min  range_max               risk\n",
       "0       Underweight        0.0       18.4  Malnutrition risk\n",
       "1     Normal weight       18.5       24.9           Low risk\n",
       "2        Overweight       25.0       29.9      Enhanced risk\n",
       "3  Moderately obese       30.0       34.9        Medium risk\n",
       "4    Severely obese       35.0       39.9          High risk"
      ]
     },
     "execution_count": 76,
     "metadata": {},
     "output_type": "execute_result"
    }
   ],
   "source": [
    "bmi_table_df = pd.DataFrame(bmi_table)\n",
    "bmi_table_df.head()"
   ]
  },
  {
   "cell_type": "code",
   "execution_count": 77,
   "id": "9c97c321",
   "metadata": {},
   "outputs": [
    {
     "ename": "TypeError",
     "evalue": "list indices must be integers or slices, not Series",
     "output_type": "error",
     "traceback": [
      "\u001b[0;31m---------------------------------------------------------------------------\u001b[0m",
      "\u001b[0;31mTypeError\u001b[0m                                 Traceback (most recent call last)",
      "Input \u001b[0;32mIn [77]\u001b[0m, in \u001b[0;36m<module>\u001b[0;34m\u001b[0m\n\u001b[1;32m      8\u001b[0m     category \u001b[38;5;241m=\u001b[39m bmi_table[result_index][\u001b[38;5;124m\"\u001b[39m\u001b[38;5;124mcategory\u001b[39m\u001b[38;5;124m\"\u001b[39m]\n\u001b[1;32m      9\u001b[0m     \u001b[38;5;28;01mreturn\u001b[39;00m risk\n\u001b[0;32m---> 11\u001b[0m \u001b[38;5;28mprint\u001b[39m(\u001b[43mcalculate_bmi_and_risk\u001b[49m\u001b[43m(\u001b[49m\u001b[38;5;241;43m180\u001b[39;49m\u001b[43m,\u001b[49m\u001b[43m \u001b[49m\u001b[38;5;241;43m77\u001b[39;49m\u001b[43m)\u001b[49m)\n\u001b[1;32m     12\u001b[0m \u001b[38;5;28mprint\u001b[39m(calculate_bmi_and_risk(\u001b[38;5;241m180\u001b[39m, \u001b[38;5;241m77\u001b[39m))\n",
      "Input \u001b[0;32mIn [77]\u001b[0m, in \u001b[0;36mcalculate_bmi_and_risk\u001b[0;34m(height, weight)\u001b[0m\n\u001b[1;32m      6\u001b[0m result_index \u001b[38;5;241m=\u001b[39m \u001b[38;5;28mlist\u001b[39m(bmi_table_df[\u001b[38;5;124m'\u001b[39m\u001b[38;5;124mrange_max\u001b[39m\u001b[38;5;124m'\u001b[39m] \u001b[38;5;241m>\u001b[39m\u001b[38;5;241m=\u001b[39m bmi) \u001b[38;5;241m&\u001b[39m (bmi_table_df[\u001b[38;5;124m'\u001b[39m\u001b[38;5;124mrange_min\u001b[39m\u001b[38;5;124m'\u001b[39m] \u001b[38;5;241m<\u001b[39m\u001b[38;5;241m=\u001b[39m bmi)\n\u001b[1;32m      7\u001b[0m risk \u001b[38;5;241m=\u001b[39m bmi_table_df[result_index][\u001b[38;5;124m\"\u001b[39m\u001b[38;5;124mrisk\u001b[39m\u001b[38;5;124m\"\u001b[39m]\n\u001b[0;32m----> 8\u001b[0m category \u001b[38;5;241m=\u001b[39m \u001b[43mbmi_table\u001b[49m\u001b[43m[\u001b[49m\u001b[43mresult_index\u001b[49m\u001b[43m]\u001b[49m[\u001b[38;5;124m\"\u001b[39m\u001b[38;5;124mcategory\u001b[39m\u001b[38;5;124m\"\u001b[39m]\n\u001b[1;32m      9\u001b[0m \u001b[38;5;28;01mreturn\u001b[39;00m risk\n",
      "\u001b[0;31mTypeError\u001b[0m: list indices must be integers or slices, not Series"
     ]
    }
   ],
   "source": [
    "def calculate_bmi_and_risk(height, weight):\n",
    "    # BMI(kg/m2) = mass(kg) / height(m)2\n",
    "    height_in_meter = height/100\n",
    "    bmi = weight / (height_in_meter) ** 2\n",
    "    bmi = round(bmi, 2)\n",
    "    result_index = list(bmi_table_df['range_max'] >= bmi) & (bmi_table_df['range_min'] <= bmi)\n",
    "    print(\"index is\", result_index)\n",
    "    risk = bmi_table_df[result_index][\"risk\"]\n",
    "    category = bmi_table[result_index][\"category\"]\n",
    "    print(risk)\n",
    "\n",
    "\n",
    "calculate_bmi_and_risk(180, 77)\n",
    "calculate_bmi_and_risk(180, 77)"
   ]
  },
  {
   "cell_type": "code",
   "execution_count": 69,
   "id": "c2bd96b5",
   "metadata": {},
   "outputs": [
    {
     "data": {
      "text/html": [
       "<div>\n",
       "<style scoped>\n",
       "    .dataframe tbody tr th:only-of-type {\n",
       "        vertical-align: middle;\n",
       "    }\n",
       "\n",
       "    .dataframe tbody tr th {\n",
       "        vertical-align: top;\n",
       "    }\n",
       "\n",
       "    .dataframe thead th {\n",
       "        text-align: right;\n",
       "    }\n",
       "</style>\n",
       "<table border=\"1\" class=\"dataframe\">\n",
       "  <thead>\n",
       "    <tr style=\"text-align: right;\">\n",
       "      <th></th>\n",
       "      <th>Gender</th>\n",
       "      <th>HeightCm</th>\n",
       "      <th>WeightKg</th>\n",
       "    </tr>\n",
       "  </thead>\n",
       "  <tbody>\n",
       "    <tr>\n",
       "      <th>0</th>\n",
       "      <td>Male</td>\n",
       "      <td>171</td>\n",
       "      <td>96</td>\n",
       "    </tr>\n",
       "    <tr>\n",
       "      <th>1</th>\n",
       "      <td>Male</td>\n",
       "      <td>161</td>\n",
       "      <td>85</td>\n",
       "    </tr>\n",
       "    <tr>\n",
       "      <th>2</th>\n",
       "      <td>Male</td>\n",
       "      <td>180</td>\n",
       "      <td>77</td>\n",
       "    </tr>\n",
       "    <tr>\n",
       "      <th>3</th>\n",
       "      <td>Female</td>\n",
       "      <td>166</td>\n",
       "      <td>62</td>\n",
       "    </tr>\n",
       "    <tr>\n",
       "      <th>4</th>\n",
       "      <td>Female</td>\n",
       "      <td>150</td>\n",
       "      <td>70</td>\n",
       "    </tr>\n",
       "  </tbody>\n",
       "</table>\n",
       "</div>"
      ],
      "text/plain": [
       "   Gender  HeightCm  WeightKg\n",
       "0    Male       171        96\n",
       "1    Male       161        85\n",
       "2    Male       180        77\n",
       "3  Female       166        62\n",
       "4  Female       150        70"
      ]
     },
     "execution_count": 69,
     "metadata": {},
     "output_type": "execute_result"
    }
   ],
   "source": [
    "bmi_df = pd.DataFrame(bmi_data)\n",
    "bmi_df.head()"
   ]
  },
  {
   "cell_type": "code",
   "execution_count": 70,
   "id": "af4a1de3",
   "metadata": {},
   "outputs": [],
   "source": [
    "bmi_df[\"bmi\"] = bmi_input.apply(lambda risk : calculate_bmi_and_risk(bmi_input['HeightCm'], bmi_input['WeightKg']), axis = 1)"
   ]
  },
  {
   "cell_type": "code",
   "execution_count": 54,
   "id": "0dc53d71",
   "metadata": {},
   "outputs": [
    {
     "data": {
      "text/plain": [
       "0    ([], [])\n",
       "1    ([], [])\n",
       "2    ([], [])\n",
       "3    ([], [])\n",
       "4    ([], [])\n",
       "5    ([], [])\n",
       "dtype: object"
      ]
     },
     "execution_count": 54,
     "metadata": {},
     "output_type": "execute_result"
    }
   ],
   "source": [
    "a"
   ]
  },
  {
   "cell_type": "code",
   "execution_count": null,
   "id": "7a914f47",
   "metadata": {},
   "outputs": [],
   "source": []
  }
 ],
 "metadata": {
  "kernelspec": {
   "display_name": "Python 3 (ipykernel)",
   "language": "python",
   "name": "python3"
  },
  "language_info": {
   "codemirror_mode": {
    "name": "ipython",
    "version": 3
   },
   "file_extension": ".py",
   "mimetype": "text/x-python",
   "name": "python",
   "nbconvert_exporter": "python",
   "pygments_lexer": "ipython3",
   "version": "3.8.10"
  }
 },
 "nbformat": 4,
 "nbformat_minor": 5
}
