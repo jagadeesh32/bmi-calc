{
 "cells": [
  {
   "cell_type": "code",
   "execution_count": 1,
   "id": "1152ad00",
   "metadata": {},
   "outputs": [],
   "source": [
    "import time\n",
    "import pandas as pd\n",
    "import numpy as np\n",
    "\n",
    "# Sample BMI Input\n",
    "bmi_input = [\n",
    "    {\"Gender\": \"Male\", \"HeightCm\": 171, \"WeightKg\": 96},\n",
    "    {\"Gender\": \"Male\", \"HeightCm\": 161, \"WeightKg\": 85},\n",
    "    {\"Gender\": \"Male\", \"HeightCm\": 180, \"WeightKg\": 77},\n",
    "    {\"Gender\": \"Female\", \"HeightCm\": 166, \"WeightKg\": 62},\n",
    "    {\"Gender\": \"Female\", \"HeightCm\": 150, \"WeightKg\": 70},\n",
    "    {\"Gender\": \"Female\", \"HeightCm\": 167, \"WeightKg\": 82}\n",
    "]\n",
    "\n",
    "# Given BMI Table\n",
    "min_range = 0\n",
    "max_range = 50\n",
    "bmi_table = [\n",
    "    {\"category\": \"Underweight\", \"range_min\": min_range, \"range_max\": 18.4, \"risk\": \"Malnutrition risk\"},\n",
    "    {\"category\": \"Normal weight\", \"range_min\": 18.5, \"range_max\": 24.9, \"risk\": \"Low risk\"},\n",
    "    {\"category\": \"Overweight\", \"range_min\": 25, \"range_max\": 29.9, \"risk\": \"Enhanced risk\"},\n",
    "    {\"category\": \"Moderately obese\", \"range_min\": 30, \"range_max\": 34.9, \"risk\": \"Medium risk\"},\n",
    "    {\"category\": \"Severely obese\", \"range_min\": 35, \"range_max\": 39.9, \"risk\": \"High risk\"},\n",
    "    {\"category\": \"Very severely obese\", \"range_min\": 40, \"range_max\": max_range, \"risk\": \"Very high risk\"},\n",
    "]"
   ]
  },
  {
   "cell_type": "code",
   "execution_count": 2,
   "id": "ad27d294",
   "metadata": {},
   "outputs": [],
   "source": [
    "# convert input to dataframe\n",
    "bmi_table_df = pd.DataFrame(bmi_table)\n"
   ]
  },
  {
   "cell_type": "code",
   "execution_count": 20,
   "id": "b8e88552",
   "metadata": {},
   "outputs": [],
   "source": [
    "\n",
    "class BMICalculator:\n",
    "    def __init__(self, data):\n",
    "        self.data = data\n",
    "        self.result_index = 0\n",
    "        self.result_list = []\n",
    "        self.risk = None\n",
    "        self.category = None\n",
    "        \n",
    "    def calculate_bmi(self):\n",
    "        # Calcualte Given DataFrame BMI\n",
    "        self.data[\"bmi\"] = round(self.data['WeightKg'] / (self.data['HeightCm']/100) ** 2, 2)\n",
    "        return self.data\n",
    "    \n",
    "    def calculate_risk(self):\n",
    "        self.data[\"risk\"] = self.data[\"bmi\"].apply(self.get_risk)\n",
    "        return self.data\n",
    "    \n",
    "    def calculate_category(self):\n",
    "        self.data[\"category\"] = self.data[\"bmi\"].apply(self.get_category)    \n",
    "        return self.data\n",
    "    \n",
    "    def get_risk(self, bmi):\n",
    "        # Get BMI Risk value\n",
    "        self.result_list = np.array(bmi_table_df['range_max'] >= bmi) & (bmi_table_df['range_min'] <= bmi)\n",
    "        self.result_index = self.result_list[self.result_list == True]\n",
    "        self.risk = bmi_table_df[\"risk\"][self.result_index.index[0]]\n",
    "        return str(self.risk)\n",
    "\n",
    "    def get_category(self, bmi):\n",
    "        # GET BMI Category Value\n",
    "        self.result_list = np.array(bmi_table_df['range_max'] >= bmi) & (bmi_table_df['range_min'] <= bmi)\n",
    "        self.result_index = self.result_list[self.result_list == True]\n",
    "        self.category = bmi_table_df[\"category\"][self.result_index.index[0]]\n",
    "        return str(self.category)\n",
    "    \n",
    "    def get_overweight_count(self):\n",
    "        total = self.data.groupby('category').count()\n",
    "        total = total.transpose()[\"Overweight\"][\"Gender\"]\n",
    "        return total\n"
   ]
  },
  {
   "cell_type": "code",
   "execution_count": 22,
   "id": "07f2eb9b",
   "metadata": {},
   "outputs": [
    {
     "name": "stdout",
     "output_type": "stream",
     "text": [
      "   Gender  HeightCm  WeightKg    bmi\n",
      "0    Male       171        96  32.83\n",
      "1    Male       161        85  32.79\n",
      "2    Male       180        77  23.77\n",
      "3  Female       166        62  22.50\n",
      "4  Female       150        70  31.11\n",
      "5  Female       167        82  29.40\n",
      "   Gender  HeightCm  WeightKg    bmi          category\n",
      "0    Male       171        96  32.83  Moderately obese\n",
      "1    Male       161        85  32.79  Moderately obese\n",
      "2    Male       180        77  23.77     Normal weight\n",
      "3  Female       166        62  22.50     Normal weight\n",
      "4  Female       150        70  31.11  Moderately obese\n",
      "5  Female       167        82  29.40        Overweight\n",
      "1\n"
     ]
    }
   ],
   "source": [
    "b = BMICalculator(pd.DataFrame(bmi_input))\n",
    "print(b.calculate_bmi())\n",
    "print(b.calculate_category())\n",
    "total = b.get_overweight_count()\n",
    "print(total)"
   ]
  },
  {
   "cell_type": "code",
   "execution_count": 17,
   "id": "d7413824",
   "metadata": {},
   "outputs": [
    {
     "data": {
      "text/plain": [
       "1"
      ]
     },
     "execution_count": 17,
     "metadata": {},
     "output_type": "execute_result"
    }
   ],
   "source": []
  },
  {
   "cell_type": "code",
   "execution_count": null,
   "id": "f86c35ed",
   "metadata": {},
   "outputs": [],
   "source": []
  }
 ],
 "metadata": {
  "kernelspec": {
   "display_name": "Python 3 (ipykernel)",
   "language": "python",
   "name": "python3"
  },
  "language_info": {
   "codemirror_mode": {
    "name": "ipython",
    "version": 3
   },
   "file_extension": ".py",
   "mimetype": "text/x-python",
   "name": "python",
   "nbconvert_exporter": "python",
   "pygments_lexer": "ipython3",
   "version": "3.8.10"
  }
 },
 "nbformat": 4,
 "nbformat_minor": 5
}
