{
 "cells": [
  {
   "cell_type": "code",
   "execution_count": 1,
   "id": "76c4d50c",
   "metadata": {},
   "outputs": [],
   "source": [
    "import pandas as pd\n",
    "import numpy as np\n",
    "\n",
    "bmi_input = [\n",
    "    {\"Gender\": \"Male\", \"HeightCm\": 171, \"WeightKg\": 96},\n",
    "    {\"Gender\": \"Male\", \"HeightCm\": 161, \"WeightKg\": 85},\n",
    "    {\"Gender\": \"Male\", \"HeightCm\": 180, \"WeightKg\": 77},\n",
    "    {\"Gender\": \"Female\", \"HeightCm\": 166, \"WeightKg\": 62},\n",
    "    {\"Gender\": \"Female\", \"HeightCm\": 150, \"WeightKg\": 70},\n",
    "    {\"Gender\": \"Female\", \"HeightCm\": 167, \"WeightKg\": 82}\n",
    "]\n",
    "\n",
    "bmi_table = [\n",
    "    {\"category\": \"Underweight\", \"range_min\": 0, \"range_max\": 18.4, \"risk\": \"Malnutrition risk\"},\n",
    "    {\"category\": \"Normal weight\", \"range_min\": 18.5, \"range_max\": 24.9, \"risk\": \"Low risk\"},\n",
    "    {\"category\": \"Overweight\", \"range_min\": 25, \"range_max\": 29.9, \"risk\": \"Enhanced risk\"},\n",
    "    {\"category\": \"Moderately obese\", \"range_min\": 30, \"range_max\": 34.9, \"risk\": \"Medium risk\"},\n",
    "    {\"category\": \"Severely obese\", \"range_min\": 35, \"range_max\": 39.9, \"risk\": \"High risk\"},\n",
    "    {\"category\": \"Very severely obese\", \"range_min\": 40, \"range_max\": 0, \"risk\": \"Very high risk\"},\n",
    "]"
   ]
  },
  {
   "cell_type": "code",
   "execution_count": 6,
   "id": "dfc11ba9",
   "metadata": {},
   "outputs": [
    {
     "data": {
      "text/html": [
       "<div>\n",
       "<style scoped>\n",
       "    .dataframe tbody tr th:only-of-type {\n",
       "        vertical-align: middle;\n",
       "    }\n",
       "\n",
       "    .dataframe tbody tr th {\n",
       "        vertical-align: top;\n",
       "    }\n",
       "\n",
       "    .dataframe thead th {\n",
       "        text-align: right;\n",
       "    }\n",
       "</style>\n",
       "<table border=\"1\" class=\"dataframe\">\n",
       "  <thead>\n",
       "    <tr style=\"text-align: right;\">\n",
       "      <th></th>\n",
       "      <th>category</th>\n",
       "      <th>range_min</th>\n",
       "      <th>range_max</th>\n",
       "      <th>risk</th>\n",
       "    </tr>\n",
       "  </thead>\n",
       "  <tbody>\n",
       "    <tr>\n",
       "      <th>0</th>\n",
       "      <td>Underweight</td>\n",
       "      <td>0.0</td>\n",
       "      <td>18.4</td>\n",
       "      <td>Malnutrition risk</td>\n",
       "    </tr>\n",
       "    <tr>\n",
       "      <th>1</th>\n",
       "      <td>Normal weight</td>\n",
       "      <td>18.5</td>\n",
       "      <td>24.9</td>\n",
       "      <td>Low risk</td>\n",
       "    </tr>\n",
       "    <tr>\n",
       "      <th>2</th>\n",
       "      <td>Overweight</td>\n",
       "      <td>25.0</td>\n",
       "      <td>29.9</td>\n",
       "      <td>Enhanced risk</td>\n",
       "    </tr>\n",
       "    <tr>\n",
       "      <th>3</th>\n",
       "      <td>Moderately obese</td>\n",
       "      <td>30.0</td>\n",
       "      <td>34.9</td>\n",
       "      <td>Medium risk</td>\n",
       "    </tr>\n",
       "    <tr>\n",
       "      <th>4</th>\n",
       "      <td>Severely obese</td>\n",
       "      <td>35.0</td>\n",
       "      <td>39.9</td>\n",
       "      <td>High risk</td>\n",
       "    </tr>\n",
       "  </tbody>\n",
       "</table>\n",
       "</div>"
      ],
      "text/plain": [
       "           category  range_min  range_max               risk\n",
       "0       Underweight        0.0       18.4  Malnutrition risk\n",
       "1     Normal weight       18.5       24.9           Low risk\n",
       "2        Overweight       25.0       29.9      Enhanced risk\n",
       "3  Moderately obese       30.0       34.9        Medium risk\n",
       "4    Severely obese       35.0       39.9          High risk"
      ]
     },
     "execution_count": 6,
     "metadata": {},
     "output_type": "execute_result"
    }
   ],
   "source": [
    "bmi_table_df = pd.DataFrame(bmi_table * 10000)\n",
    "bmi_table_df.head()"
   ]
  },
  {
   "cell_type": "code",
   "execution_count": 7,
   "id": "bfe0a322",
   "metadata": {},
   "outputs": [
    {
     "data": {
      "text/plain": [
       "(60000, 4)"
      ]
     },
     "execution_count": 7,
     "metadata": {},
     "output_type": "execute_result"
    }
   ],
   "source": [
    "bmi_table_df.drop_duplicates()\n",
    "bmi_table_df.shape"
   ]
  },
  {
   "cell_type": "code",
   "execution_count": 26,
   "id": "31174fb8",
   "metadata": {},
   "outputs": [],
   "source": [
    "def get_risk(bmi):\n",
    "    result_list = list(bmi_table_df['range_max'] >= bmi) & (bmi_table_df['range_min'] <= bmi)\n",
    "    result_index = result_list[result_list == True]\n",
    "    risk = bmi_table_df[\"risk\"][result_index.index[0]]\n",
    "    return str(risk)"
   ]
  },
  {
   "cell_type": "code",
   "execution_count": 27,
   "id": "50491ea0",
   "metadata": {},
   "outputs": [
    {
     "data": {
      "text/html": [
       "<div>\n",
       "<style scoped>\n",
       "    .dataframe tbody tr th:only-of-type {\n",
       "        vertical-align: middle;\n",
       "    }\n",
       "\n",
       "    .dataframe tbody tr th {\n",
       "        vertical-align: top;\n",
       "    }\n",
       "\n",
       "    .dataframe thead th {\n",
       "        text-align: right;\n",
       "    }\n",
       "</style>\n",
       "<table border=\"1\" class=\"dataframe\">\n",
       "  <thead>\n",
       "    <tr style=\"text-align: right;\">\n",
       "      <th></th>\n",
       "      <th>Gender</th>\n",
       "      <th>HeightCm</th>\n",
       "      <th>WeightKg</th>\n",
       "    </tr>\n",
       "  </thead>\n",
       "  <tbody>\n",
       "    <tr>\n",
       "      <th>0</th>\n",
       "      <td>Male</td>\n",
       "      <td>171</td>\n",
       "      <td>96</td>\n",
       "    </tr>\n",
       "    <tr>\n",
       "      <th>1</th>\n",
       "      <td>Male</td>\n",
       "      <td>161</td>\n",
       "      <td>85</td>\n",
       "    </tr>\n",
       "    <tr>\n",
       "      <th>2</th>\n",
       "      <td>Male</td>\n",
       "      <td>180</td>\n",
       "      <td>77</td>\n",
       "    </tr>\n",
       "    <tr>\n",
       "      <th>3</th>\n",
       "      <td>Female</td>\n",
       "      <td>166</td>\n",
       "      <td>62</td>\n",
       "    </tr>\n",
       "    <tr>\n",
       "      <th>4</th>\n",
       "      <td>Female</td>\n",
       "      <td>150</td>\n",
       "      <td>70</td>\n",
       "    </tr>\n",
       "  </tbody>\n",
       "</table>\n",
       "</div>"
      ],
      "text/plain": [
       "   Gender  HeightCm  WeightKg\n",
       "0    Male       171        96\n",
       "1    Male       161        85\n",
       "2    Male       180        77\n",
       "3  Female       166        62\n",
       "4  Female       150        70"
      ]
     },
     "execution_count": 27,
     "metadata": {},
     "output_type": "execute_result"
    }
   ],
   "source": [
    "bmi_input_df = pd.DataFrame(bmi_input)\n",
    "bmi_input_df.head()"
   ]
  },
  {
   "cell_type": "code",
   "execution_count": 28,
   "id": "475a18cc",
   "metadata": {},
   "outputs": [
    {
     "data": {
      "text/html": [
       "<div>\n",
       "<style scoped>\n",
       "    .dataframe tbody tr th:only-of-type {\n",
       "        vertical-align: middle;\n",
       "    }\n",
       "\n",
       "    .dataframe tbody tr th {\n",
       "        vertical-align: top;\n",
       "    }\n",
       "\n",
       "    .dataframe thead th {\n",
       "        text-align: right;\n",
       "    }\n",
       "</style>\n",
       "<table border=\"1\" class=\"dataframe\">\n",
       "  <thead>\n",
       "    <tr style=\"text-align: right;\">\n",
       "      <th></th>\n",
       "      <th>Gender</th>\n",
       "      <th>HeightCm</th>\n",
       "      <th>WeightKg</th>\n",
       "      <th>bmi</th>\n",
       "    </tr>\n",
       "  </thead>\n",
       "  <tbody>\n",
       "    <tr>\n",
       "      <th>0</th>\n",
       "      <td>Male</td>\n",
       "      <td>171</td>\n",
       "      <td>96</td>\n",
       "      <td>32.83</td>\n",
       "    </tr>\n",
       "    <tr>\n",
       "      <th>1</th>\n",
       "      <td>Male</td>\n",
       "      <td>161</td>\n",
       "      <td>85</td>\n",
       "      <td>32.79</td>\n",
       "    </tr>\n",
       "    <tr>\n",
       "      <th>2</th>\n",
       "      <td>Male</td>\n",
       "      <td>180</td>\n",
       "      <td>77</td>\n",
       "      <td>23.77</td>\n",
       "    </tr>\n",
       "    <tr>\n",
       "      <th>3</th>\n",
       "      <td>Female</td>\n",
       "      <td>166</td>\n",
       "      <td>62</td>\n",
       "      <td>22.50</td>\n",
       "    </tr>\n",
       "    <tr>\n",
       "      <th>4</th>\n",
       "      <td>Female</td>\n",
       "      <td>150</td>\n",
       "      <td>70</td>\n",
       "      <td>31.11</td>\n",
       "    </tr>\n",
       "  </tbody>\n",
       "</table>\n",
       "</div>"
      ],
      "text/plain": [
       "   Gender  HeightCm  WeightKg    bmi\n",
       "0    Male       171        96  32.83\n",
       "1    Male       161        85  32.79\n",
       "2    Male       180        77  23.77\n",
       "3  Female       166        62  22.50\n",
       "4  Female       150        70  31.11"
      ]
     },
     "execution_count": 28,
     "metadata": {},
     "output_type": "execute_result"
    }
   ],
   "source": [
    "bmi_input_df[\"bmi\"] = round(bmi_input_df['WeightKg'] / (bmi_input_df['HeightCm']/100) ** 2, 2)\n",
    "bmi_input_df.head()"
   ]
  },
  {
   "cell_type": "code",
   "execution_count": 29,
   "id": "d2e0695d",
   "metadata": {},
   "outputs": [
    {
     "name": "stdout",
     "output_type": "stream",
     "text": [
      "0    False\n",
      "1     True\n",
      "2    False\n",
      "3    False\n",
      "4    False\n",
      "5    False\n",
      "Name: range_min, dtype: bool\n"
     ]
    }
   ],
   "source": [
    "bmi = 23.6\n",
    "result_list = np.array(bmi_table_df['range_max'] >= bmi) & (bmi_table_df['range_min'] <= bmi)\n",
    "print(result_list)"
   ]
  },
  {
   "cell_type": "code",
   "execution_count": null,
   "id": "a8538dfc",
   "metadata": {},
   "outputs": [],
   "source": []
  },
  {
   "cell_type": "code",
   "execution_count": null,
   "id": "c6b05e96",
   "metadata": {},
   "outputs": [],
   "source": []
  }
 ],
 "metadata": {
  "kernelspec": {
   "display_name": "Python 3 (ipykernel)",
   "language": "python",
   "name": "python3"
  },
  "language_info": {
   "codemirror_mode": {
    "name": "ipython",
    "version": 3
   },
   "file_extension": ".py",
   "mimetype": "text/x-python",
   "name": "python",
   "nbconvert_exporter": "python",
   "pygments_lexer": "ipython3",
   "version": "3.8.10"
  }
 },
 "nbformat": 4,
 "nbformat_minor": 5
}
